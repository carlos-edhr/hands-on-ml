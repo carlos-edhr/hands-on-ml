{
  "nbformat": 4,
  "nbformat_minor": 0,
  "metadata": {
    "colab": {
      "name": "02_Classification.ipynb",
      "provenance": [],
      "collapsed_sections": [],
      "authorship_tag": "ABX9TyN3vviKMP3XSsAByIsxFZja",
      "include_colab_link": true
    },
    "kernelspec": {
      "name": "python3",
      "display_name": "Python 3"
    },
    "language_info": {
      "name": "python"
    }
  },
  "cells": [
    {
      "cell_type": "markdown",
      "metadata": {
        "id": "view-in-github",
        "colab_type": "text"
      },
      "source": [
        "<a href=\"https://colab.research.google.com/github/carlos-edhr/hands-on-ml/blob/main/02_Classification.ipynb\" target=\"_parent\"><img src=\"https://colab.research.google.com/assets/colab-badge.svg\" alt=\"Open In Colab\"/></a>"
      ]
    },
    {
      "cell_type": "markdown",
      "metadata": {
        "id": "z7RBxq6cYpfg"
      },
      "source": [
        "# Machine Learning Classification\n",
        "\n",
        " This notebook is about machine learning classification using the MNIST dataset, which is a set of 70,000 images of handwritten digits. Each image is labeled with the digit it represents."
      ]
    },
    {
      "cell_type": "code",
      "metadata": {
        "id": "jr73pTq3W3bZ"
      },
      "source": [
        "# Environment setup\n",
        "# Python ≥3.5 is required\n",
        "import sys\n",
        "assert sys.version_info >= (3, 5)\n",
        "\n",
        "# Is this notebook running on Colab or Kaggle?\n",
        "IS_COLAB = \"google.colab\" in sys.modules\n",
        "IS_KAGGLE = \"kaggle_secrets\" in sys.modules\n",
        "\n",
        "# Scikit-Learn ≥0.20 is required\n",
        "import sklearn\n",
        "assert sklearn.__version__ >= \"0.20\"\n",
        "\n",
        "# Common imports\n",
        "import numpy as np\n",
        "import os\n",
        "\n",
        "# to make this notebook's output stable across runs\n",
        "np.random.seed(42)\n",
        "\n",
        "# To plot pretty figures\n",
        "%matplotlib inline\n",
        "import matplotlib as mpl\n",
        "import matplotlib.pyplot as plt\n",
        "mpl.rc('axes', labelsize=14)\n",
        "mpl.rc('xtick', labelsize=12)\n",
        "mpl.rc('ytick', labelsize=12)\n",
        "\n",
        "# Where to save the figures\n",
        "PROJECT_ROOT_DIR = \".\"\n",
        "CHAPTER_ID = \"classification\"\n",
        "IMAGES_PATH = os.path.join(PROJECT_ROOT_DIR, \"images\", CHAPTER_ID)\n",
        "os.makedirs(IMAGES_PATH, exist_ok=True)\n",
        "\n",
        "def save_fig(fig_id, tight_layout=True, fig_extension=\"png\", resolution=300):\n",
        "    path = os.path.join(IMAGES_PATH, fig_id + \".\" + fig_extension)\n",
        "    print(\"Saving figure\", fig_id)\n",
        "    if tight_layout:\n",
        "        plt.tight_layout()\n",
        "    plt.savefig(path, format=fig_extension, dpi=resolution)"
      ],
      "execution_count": 12,
      "outputs": []
    },
    {
      "cell_type": "markdown",
      "metadata": {
        "id": "DsmQFR2zgS2S"
      },
      "source": [
        "## MNIST"
      ]
    },
    {
      "cell_type": "code",
      "metadata": {
        "id": "kwbwZZk3W7jf",
        "colab": {
          "base_uri": "https://localhost:8080/"
        },
        "outputId": "9efedb65-7800-4e6c-a148-0d0d50fb773e"
      },
      "source": [
        "# Scikit-Learn provided function to downlaod MNIST\n",
        "from sklearn.datasets import fetch_openml\n",
        "mnist = fetch_openml('mnist_784', version=1)\n",
        "mnist.keys()"
      ],
      "execution_count": 13,
      "outputs": [
        {
          "output_type": "execute_result",
          "data": {
            "text/plain": [
              "dict_keys(['data', 'target', 'frame', 'feature_names', 'target_names', 'DESCR', 'details', 'categories', 'url'])"
            ]
          },
          "metadata": {
            "tags": []
          },
          "execution_count": 13
        }
      ]
    },
    {
      "cell_type": "code",
      "metadata": {
        "id": "o5vAqT7UW-VO",
        "colab": {
          "base_uri": "https://localhost:8080/"
        },
        "outputId": "717b5b29-c9c7-403b-f63a-1ebc710bce7a"
      },
      "source": [
        "# Data-Target arrays are included in datasets loaded by Scikit-learn\n",
        "X, y = mnist[\"data\"], mnist[\"target\"]\n",
        "X.shape"
      ],
      "execution_count": 14,
      "outputs": [
        {
          "output_type": "execute_result",
          "data": {
            "text/plain": [
              "(70000, 784)"
            ]
          },
          "metadata": {
            "tags": []
          },
          "execution_count": 14
        }
      ]
    },
    {
      "cell_type": "code",
      "metadata": {
        "id": "eHjBXWoEXFhu",
        "colab": {
          "base_uri": "https://localhost:8080/"
        },
        "outputId": "18f1c0d6-c7ec-4448-d85e-42b1889a1adf"
      },
      "source": [
        "y.shape"
      ],
      "execution_count": 15,
      "outputs": [
        {
          "output_type": "execute_result",
          "data": {
            "text/plain": [
              "(70000,)"
            ]
          },
          "metadata": {
            "tags": []
          },
          "execution_count": 15
        }
      ]
    },
    {
      "cell_type": "code",
      "metadata": {
        "id": "bGjRePnLXLqC",
        "colab": {
          "base_uri": "https://localhost:8080/",
          "height": 314
        },
        "outputId": "5cb38350-5740-4885-de39-8b214560ffcb"
      },
      "source": [
        "# Show digit from dataset\n",
        "%matplotlib inline\n",
        "import matplotlib as mpl\n",
        "import matplotlib.pyplot as plt\n",
        "\n",
        "some_digit = X[0]\n",
        "some_digit_image = some_digit.reshape(28, 28)\n",
        "plt.imshow(some_digit_image, cmap=mpl.cm.binary)\n",
        "plt.axis(\"off\")\n",
        "\n",
        "save_fig(\"some_digit_plot\")\n",
        "plt.show()"
      ],
      "execution_count": 16,
      "outputs": [
        {
          "output_type": "stream",
          "text": [
            "Saving figure some_digit_plot\n"
          ],
          "name": "stdout"
        },
        {
          "output_type": "display_data",
          "data": {
            "image/png": "[encoded data removed]",
            "text/plain": [
              "<Figure size 432x288 with 1 Axes>"
            ]
          },
          "metadata": {
            "tags": [],
            "needs_background": "light"
          }
        }
      ]
    },
    {
      "cell_type": "code",
      "metadata": {
        "id": "MdO9N2vWXPEx",
        "colab": {
          "base_uri": "https://localhost:8080/",
          "height": 35
        },
        "outputId": "81ab0467-aa77-4ff8-a397-d40267ce8db6"
      },
      "source": [
        "# Previous digit label\n",
        "y[0]"
      ],
      "execution_count": 17,
      "outputs": [
        {
          "output_type": "execute_result",
          "data": {
            "application/vnd.google.colaboratory.intrinsic+json": {
              "type": "string"
            },
            "text/plain": [
              "'5'"
            ]
          },
          "metadata": {
            "tags": []
          },
          "execution_count": 17
        }
      ]
    },
    {
      "cell_type": "code",
      "metadata": {
        "id": "dfVEIeb8ZUwj"
      },
      "source": [
        "y = y.astype(np.uint8)"
      ],
      "execution_count": 18,
      "outputs": []
    },
    {
      "cell_type": "code",
      "metadata": {
        "id": "lBH52iW-ZXlw"
      },
      "source": [
        "# Creating a test set\n",
        "X_train, X_test, y_train, y_test = X[:60000], X[60000:], y[:60000], y[60000:]"
      ],
      "execution_count": 19,
      "outputs": []
    },
    {
      "cell_type": "markdown",
      "metadata": {
        "id": "0rBak7zBZpCe"
      },
      "source": [
        "## Training a Binary Classifier"
      ]
    },
    {
      "cell_type": "markdown",
      "metadata": {
        "id": "hfOeSLiDimn2"
      },
      "source": [
        "We will start the solution by identifying just one digit."
      ]
    },
    {
      "cell_type": "code",
      "metadata": {
        "id": "LwDWB_7ggoU-"
      },
      "source": [
        "y_train_5 = (y_train == 5) # True for all numbers: 5\n",
        "y_test_5 = (y_test == 5)"
      ],
      "execution_count": 21,
      "outputs": []
    },
    {
      "cell_type": "markdown",
      "metadata": {
        "id": "VaPIDAdFkZhM"
      },
      "source": [
        "Next we proceed to choose a classifier and train it."
      ]
    },
    {
      "cell_type": "code",
      "metadata": {
        "colab": {
          "base_uri": "https://localhost:8080/"
        },
        "id": "Sce6WtM0jBaE",
        "outputId": "903666ae-5a61-4c09-8ca3-3f707b8ce551"
      },
      "source": [
        "# Estimator: SGDClassifier - Stochastic Gradient Descent\n",
        "from sklearn.linear_model import SGDClassifier \n",
        "\n",
        "sgd_clf = SGDClassifier(random_state=42)\n",
        "sgd_clf.fit(X_train, y_train_5)"
      ],
      "execution_count": 22,
      "outputs": [
        {
          "output_type": "execute_result",
          "data": {
            "text/plain": [
              "SGDClassifier(alpha=0.0001, average=False, class_weight=None,\n",
              "              early_stopping=False, epsilon=0.1, eta0=0.0, fit_intercept=True,\n",
              "              l1_ratio=0.15, learning_rate='optimal', loss='hinge',\n",
              "              max_iter=1000, n_iter_no_change=5, n_jobs=None, penalty='l2',\n",
              "              power_t=0.5, random_state=42, shuffle=True, tol=0.001,\n",
              "              validation_fraction=0.1, verbose=0, warm_start=False)"
            ]
          },
          "metadata": {
            "tags": []
          },
          "execution_count": 22
        }
      ]
    },
    {
      "cell_type": "markdown",
      "metadata": {
        "id": "69OeLoGikV84"
      },
      "source": [
        "Our model can now detect images of the number 5"
      ]
    },
    {
      "cell_type": "code",
      "metadata": {
        "colab": {
          "base_uri": "https://localhost:8080/"
        },
        "id": "0s-UJ0hbm60y",
        "outputId": "18d97e7f-8d4c-4969-8d0b-3736e4858e2b"
      },
      "source": [
        "# the some_digit variable was previously set to 5\n",
        "sgd_clf.predict([some_digit])"
      ],
      "execution_count": 25,
      "outputs": [
        {
          "output_type": "execute_result",
          "data": {
            "text/plain": [
              "array([ True])"
            ]
          },
          "metadata": {
            "tags": []
          },
          "execution_count": 25
        }
      ]
    },
    {
      "cell_type": "markdown",
      "metadata": {
        "id": "n2mHyNKYm-ye"
      },
      "source": [
        "It seems that at this stage our model performs correctly, now we proceed to evaluate it's performance."
      ]
    },
    {
      "cell_type": "markdown",
      "metadata": {
        "id": "wsDdy4pgnhFI"
      },
      "source": [
        "## Performance Measures"
      ]
    },
    {
      "cell_type": "markdown",
      "metadata": {
        "id": "dkx0p2DHnjru"
      },
      "source": [
        "### Measuring accuracy using cross-validation"
      ]
    },
    {
      "cell_type": "markdown",
      "metadata": {
        "id": "aCw-jKCw2c3i"
      },
      "source": [
        "**Implementing cross-validation**\n",
        "\n",
        "For greater control over cross-validation we can create our own function:"
      ]
    },
    {
      "cell_type": "code",
      "metadata": {
        "colab": {
          "base_uri": "https://localhost:8080/"
        },
        "id": "ifP973hq3qL9",
        "outputId": "8f7032e9-e865-46b4-e183-88e2c2dc1977"
      },
      "source": [
        "# Custom implementation of Scikit-Learn's cross_val_score()\n",
        "from sklearn.model_selection import StratifiedKFold \n",
        "from sklearn.base import clone \n",
        "\n",
        "skfolds = StratifiedKFold(n_splits=3, random_state=42)\n",
        "\n",
        "for train_index, test_index in skfolds.split(X_train, y_train_5):\n",
        "  clone_clf = clone(sgd_clf)\n",
        "  X_train_folds = X_train[train_index]\n",
        "  y_train_folds = y_train_5[train_index]\n",
        "  X_test_fold = X_train[test_index]\n",
        "  y_test_fold = y_train_5[test_index]\n",
        "\n",
        "  clone_clf.fit(X_train_folds, y_train_folds)\n",
        "  y_pred = clone_clf.predict(X_test_fold)\n",
        "  n_correct = sum(y_pred == y_test_fold)\n",
        "  print(n_correct / len(y_pred)) "
      ],
      "execution_count": 27,
      "outputs": [
        {
          "output_type": "stream",
          "text": [
            "/usr/local/lib/python3.7/dist-packages/sklearn/model_selection/_split.py:296: FutureWarning: Setting a random_state has no effect since shuffle is False. This will raise an error in 0.24. You should leave random_state to its default (None), or set shuffle=True.\n",
            "  FutureWarning\n"
          ],
          "name": "stderr"
        },
        {
          "output_type": "stream",
          "text": [
            "0.95035\n",
            "0.96035\n",
            "0.9604\n"
          ],
          "name": "stdout"
        }
      ]
    },
    {
      "cell_type": "markdown",
      "metadata": {
        "id": "3PP5aCjA7u-8"
      },
      "source": [
        "Now we evaluate the SGDClassifier model with cross_val_score()."
      ]
    },
    {
      "cell_type": "code",
      "metadata": {
        "colab": {
          "base_uri": "https://localhost:8080/"
        },
        "id": "k4V1l0xJ8pzG",
        "outputId": "6321effb-7681-42ba-963f-31b45586d0f3"
      },
      "source": [
        "from sklearn.model_selection import cross_val_score\n",
        "cross_val_score(sgd_clf, X_train, y_train_5, cv=5, scoring=\"accuracy\")"
      ],
      "execution_count": 29,
      "outputs": [
        {
          "output_type": "execute_result",
          "data": {
            "text/plain": [
              "array([0.95466667, 0.96975   , 0.9635    , 0.96533333, 0.94841667])"
            ]
          },
          "metadata": {
            "tags": []
          },
          "execution_count": 29
        }
      ]
    },
    {
      "cell_type": "markdown",
      "metadata": {
        "id": "9vyZxFxt8yu7"
      },
      "source": [
        "The ratio of correct predictions is high - 96% - however let's take a look at a classifier of \"not-5\" images: "
      ]
    },
    {
      "cell_type": "code",
      "metadata": {
        "id": "S0mYaIlh9evM"
      },
      "source": [
        "# Detect if element is not 5\n",
        "from sklearn.base import BaseEstimator \n",
        "\n",
        "class Never5Classifier(BaseEstimator):\n",
        "  def fit(self, X, y=None):\n",
        "    return self\n",
        "  def predict(self, X):\n",
        "    return np.zeros((len(X), 1), dtype=bool)\n"
      ],
      "execution_count": 32,
      "outputs": []
    },
    {
      "cell_type": "code",
      "metadata": {
        "colab": {
          "base_uri": "https://localhost:8080/"
        },
        "id": "DkfC8r479tSD",
        "outputId": "1efdf0df-f95a-4f17-bd60-b9c1c58fec9e"
      },
      "source": [
        "never_5_clf = Never5Classifier()\n",
        "cross_val_score(never_5_clf, X_train, y_train_5, cv=3, scoring=\"accuracy\")"
      ],
      "execution_count": 33,
      "outputs": [
        {
          "output_type": "execute_result",
          "data": {
            "text/plain": [
              "array([0.91125, 0.90855, 0.90915])"
            ]
          },
          "metadata": {
            "tags": []
          },
          "execution_count": 33
        }
      ]
    },
    {
      "cell_type": "markdown",
      "metadata": {
        "id": "yHKgsDjr99IC"
      },
      "source": [
        "Accuracy is high because only 10% of the images are 5s.\n",
        "\n",
        "This shows that accuracy is generally not the preferred performance measure for classifiers."
      ]
    },
    {
      "cell_type": "markdown",
      "metadata": {
        "id": "HI6YjBqj-b_C"
      },
      "source": [
        "### Confusion Matrix"
      ]
    },
    {
      "cell_type": "markdown",
      "metadata": {
        "id": "xiYWNf3UBD40"
      },
      "source": [
        "A confusion matrix is a better way to evaluate the performance of a classifier. We start by using `cross_val_predict()` to count the number of times instances of class A are classified as class B."
      ]
    },
    {
      "cell_type": "code",
      "metadata": {
        "id": "IV53g45wEbVg"
      },
      "source": [
        "# cross_val_predict() performs K-fold cross-validation but it returns the predictions made on each test fold\n",
        "from sklearn.model_selection import cross_val_predict\n",
        "y_train_pred = cross_val_predict(sgd_clf, X_train, y_train_5, cv=3)"
      ],
      "execution_count": 34,
      "outputs": []
    },
    {
      "cell_type": "markdown",
      "metadata": {
        "id": "xLLWjMxYFHSp"
      },
      "source": [
        "Now we get the confusion matrix"
      ]
    },
    {
      "cell_type": "code",
      "metadata": {
        "colab": {
          "base_uri": "https://localhost:8080/"
        },
        "id": "NcwpvbT8Fmjf",
        "outputId": "51043eb0-299d-46f7-f337-52f8e35dfd33"
      },
      "source": [
        "# Scikit-learn has a confusion_matrix function. Rows represent an actual class, columns represent a predicted class\n",
        "from sklearn.metrics import confusion_matrix\n",
        "confusion_matrix(y_train_5, y_train_pred)"
      ],
      "execution_count": 36,
      "outputs": [
        {
          "output_type": "execute_result",
          "data": {
            "text/plain": [
              "array([[53892,   687],\n",
              "       [ 1891,  3530]])"
            ]
          },
          "metadata": {
            "tags": []
          },
          "execution_count": 36
        }
      ]
    },
    {
      "cell_type": "markdown",
      "metadata": {
        "id": "hl3CFR8oFvTS"
      },
      "source": [
        "We observe the following: \n",
        "* First row - negative class:\n",
        "  * 53,892 were classified correctly as non-5s - false positives \n",
        "  * 1,522 were wrongly classified as 5s  - False positives\n",
        "* Second row - postive class:\n",
        "  * 1,325 wrongly classified as non-5s - false negatives\n",
        "  * 4,096 correctly classified as 5s - true positives\n",
        "\n",
        "'A perfect classifier would have only true positives and true\n",
        "negatives, so its confusion matrix would have nonzero values only on its main diagonal (top left to bottom right)'"
      ]
    },
    {
      "cell_type": "code",
      "metadata": {
        "colab": {
          "base_uri": "https://localhost:8080/"
        },
        "id": "DgjOAhOsHL8E",
        "outputId": "39d10883-66b1-4fb5-f166-c3598731ba3b"
      },
      "source": [
        "# Perfect classifier example\n",
        "y_train_perfect_predictions = y_train_5 \n",
        "confusion_matrix(y_train_5, y_train_perfect_predictions)"
      ],
      "execution_count": 37,
      "outputs": [
        {
          "output_type": "execute_result",
          "data": {
            "text/plain": [
              "array([[54579,     0],\n",
              "       [    0,  5421]])"
            ]
          },
          "metadata": {
            "tags": []
          },
          "execution_count": 37
        }
      ]
    },
    {
      "cell_type": "markdown",
      "metadata": {
        "id": "RknQ0Y8vHbPk"
      },
      "source": [
        "A more concise metric is the accuracy of the positive predictions, known as the *precision* of the classifier\n",
        "\n",
        "precision $= \\frac{TP}{TP + FP}$\n",
        "\n",
        "$TP$ is the number of true positives, and $FP$ is the number of false positives."
      ]
    },
    {
      "cell_type": "markdown",
      "metadata": {
        "id": "USDWOdmNH1mF"
      },
      "source": [
        "Precision is usually used with the metric called *recall*, or *sensitivity* or the *true positive rate*(TPR). This is the ratio of positive instances that are correctly detected by the classifier\n",
        "\n",
        "recall $= \\frac{TP}{TP + FN}$\n",
        "\n",
        "$FN$ is the number of false negatives"
      ]
    },
    {
      "cell_type": "markdown",
      "metadata": {
        "id": "K8IZut5VIvQP"
      },
      "source": [
        "### Precision and Recall"
      ]
    },
    {
      "cell_type": "markdown",
      "metadata": {
        "id": "Jx7-bH0bKUFZ"
      },
      "source": [
        "Now we will use Sci-kit learn's implementation of precision and recall"
      ]
    },
    {
      "cell_type": "code",
      "metadata": {
        "colab": {
          "base_uri": "https://localhost:8080/"
        },
        "id": "eRj55kV-PTIL",
        "outputId": "8ee7c02d-0cae-4b42-8460-9a9de6d4c884"
      },
      "source": [
        "from sklearn.metrics import precision_score, recall_score \n",
        "# Precision, Recall\n",
        "precision_score(y_train_5, y_train_pred), recall_score(y_train_5, y_train_pred)"
      ],
      "execution_count": 42,
      "outputs": [
        {
          "output_type": "execute_result",
          "data": {
            "text/plain": [
              "(0.8370879772350012, 0.6511713705958311)"
            ]
          },
          "metadata": {
            "tags": []
          },
          "execution_count": 42
        }
      ]
    },
    {
      "cell_type": "markdown",
      "metadata": {
        "id": "zu0EVSBIP3_w"
      },
      "source": [
        "The $F_1$ score is the *harmonic mean* of precision and recall. The harmonic mean gives much more weight to low values.\n",
        "\n",
        "$F_1 = \\frac{2}{\\frac{1}{\\text{precision} + \\frac{1}{recall} } } = 2 \\times \\frac{\\text{precision} \\times \\text{recall} }{ \\text{precision} + \\text{recall} } = \\frac{TP}{TP + \\frac{FN + FP}{2}}$"
      ]
    },
    {
      "cell_type": "code",
      "metadata": {
        "colab": {
          "base_uri": "https://localhost:8080/"
        },
        "id": "p0XgJXzlRd9j",
        "outputId": "dfc9ea0b-a65c-4f60-d456-b783468679c6"
      },
      "source": [
        "# sklearn f1 implementation is the f1_score() function\n",
        "from sklearn.metrics import f1_score \n",
        "f1_score(y_train_5, y_train_pred)"
      ],
      "execution_count": 43,
      "outputs": [
        {
          "output_type": "execute_result",
          "data": {
            "text/plain": [
              "0.7325171197343846"
            ]
          },
          "metadata": {
            "tags": []
          },
          "execution_count": 43
        }
      ]
    },
    {
      "cell_type": "markdown",
      "metadata": {
        "id": "AHWNLlYlRrA6"
      },
      "source": [
        "### Precision/Recall Trade-Off"
      ]
    },
    {
      "cell_type": "markdown",
      "metadata": {
        "id": "msg4G9rbS53y"
      },
      "source": [
        "Increasing precision reduces recall, and\n",
        "vice versa. This is called the precision/recall trade-off."
      ]
    },
    {
      "cell_type": "code",
      "metadata": {
        "colab": {
          "base_uri": "https://localhost:8080/"
        },
        "id": "pn0uekRCTATN",
        "outputId": "2638ae94-936d-47bf-c83f-1f32218ddac9"
      },
      "source": [
        "# We call the classifier's decision_function() method, which returns a score for each instance\n",
        "y_scores =sgd_clf.decision_function([some_digit])\n",
        "y_scores"
      ],
      "execution_count": 46,
      "outputs": [
        {
          "output_type": "execute_result",
          "data": {
            "text/plain": [
              "array([2164.22030239])"
            ]
          },
          "metadata": {
            "tags": []
          },
          "execution_count": 46
        }
      ]
    },
    {
      "cell_type": "code",
      "metadata": {
        "id": "qBhcgzigVpP5"
      },
      "source": [
        "# This is the default threshold for the SGDClassifier\n",
        "threshold = 0\n",
        "y_some_digit_pred = (y_scores > threshold)"
      ],
      "execution_count": 47,
      "outputs": []
    },
    {
      "cell_type": "code",
      "metadata": {
        "colab": {
          "base_uri": "https://localhost:8080/"
        },
        "id": "E92LK1ZNWZnn",
        "outputId": "575f0ce1-3c38-4050-b81e-d444938adca3"
      },
      "source": [
        "# Now we proceed to raise the threshold\n",
        "threshold = 8000\n",
        "y_some_digit_pred = (y_scores > threshold)\n",
        "y_some_digit_pred "
      ],
      "execution_count": 48,
      "outputs": [
        {
          "output_type": "execute_result",
          "data": {
            "text/plain": [
              "array([False])"
            ]
          },
          "metadata": {
            "tags": []
          },
          "execution_count": 48
        }
      ]
    },
    {
      "cell_type": "markdown",
      "metadata": {
        "id": "wPTXwO7DWw_t"
      },
      "source": [
        "\"This confirms that raising the threshold decreases recall. The image actually repre‐\n",
        "sents a 5, and the classifier detects it when the threshold is 0, but it misses it when the\n",
        "threshold is increased to 8,000.\""
      ]
    },
    {
      "cell_type": "markdown",
      "metadata": {
        "id": "KN8RnZrFW7eE"
      },
      "source": [
        "To decide which threshold to use, we now call the `cross_val_predict()` fucntion to get the scores of all the instances in the training set and instead of predictions we specify to get *decision scores*."
      ]
    },
    {
      "cell_type": "code",
      "metadata": {
        "id": "fkt42rCpXgaR"
      },
      "source": [
        "y_scores = cross_val_predict(sgd_clf, X_train, y_train_5, cv=3,\n",
        "                             method=\"decision_function\")"
      ],
      "execution_count": 50,
      "outputs": []
    },
    {
      "cell_type": "markdown",
      "metadata": {
        "id": "5MFkDGQjXnxT"
      },
      "source": [
        "With `y_scores` now compute precision and recall for all possible thresholds using `precision_recall_curve()`"
      ]
    },
    {
      "cell_type": "code",
      "metadata": {
        "id": "SM9glyAqcoHq"
      },
      "source": [
        "from sklearn.metrics import precision_recall_curve \n",
        "\n",
        "precisions, recalls, thresholds = precision_recall_curve(y_train_5, y_scores)"
      ],
      "execution_count": 51,
      "outputs": []
    },
    {
      "cell_type": "markdown",
      "metadata": {
        "id": "8a_cJ73sfbNI"
      },
      "source": [
        "We now plot the precision and recall as functions of the threshold valueusing Matplotlib"
      ]
    },
    {
      "cell_type": "code",
      "metadata": {
        "colab": {
          "base_uri": "https://localhost:8080/",
          "height": 314
        },
        "id": "8u_lUA6CfmvC",
        "outputId": "13889b00-21f4-43ca-f6e5-6f21bc61c8dc"
      },
      "source": [
        "\n",
        "def plot_precision_recall_vs_threshold(precisions, recalls, thresholds):\n",
        "    plt.plot(thresholds, precisions[:-1], \"b--\", label=\"Precision\", linewidth=2)\n",
        "    plt.plot(thresholds, recalls[:-1], \"g-\", label=\"Recall\", linewidth=2)\n",
        "    plt.legend(loc=\"center right\", fontsize=16) # Not shown in the book\n",
        "    plt.xlabel(\"Threshold\", fontsize=16)        # Not shown\n",
        "    plt.grid(True)                              # Not shown\n",
        "    plt.axis([-50000, 50000, 0, 1])             # Not shown\n",
        "\n",
        "recall_90_precision = recalls[np.argmax(precisions >= 0.90)]\n",
        "threshold_90_precision = thresholds[np.argmax(precisions >= 0.90)]\n",
        "\n",
        "\n",
        "plt.figure(figsize=(8, 4))                                                                  # Not shown\n",
        "plot_precision_recall_vs_threshold(precisions, recalls, thresholds)\n",
        "plt.plot([threshold_90_precision, threshold_90_precision], [0., 0.9], \"r:\")                 # Not shown\n",
        "plt.plot([-50000, threshold_90_precision], [0.9, 0.9], \"r:\")                                # Not shown\n",
        "plt.plot([-50000, threshold_90_precision], [recall_90_precision, recall_90_precision], \"r:\")# Not shown\n",
        "plt.plot([threshold_90_precision], [0.9], \"ro\")                                             # Not shown\n",
        "plt.plot([threshold_90_precision], [recall_90_precision], \"ro\")                             # Not shown\n",
        "save_fig(\"precision_recall_vs_threshold_plot\")                                              # Not shown\n",
        "plt.show()\n"
      ],
      "execution_count": 52,
      "outputs": [
        {
          "output_type": "stream",
          "text": [
            "Saving figure precision_recall_vs_threshold_plot\n"
          ],
          "name": "stdout"
        },
        {
          "output_type": "display_data",
          "data": {
            "image/png": "[encoded data removed]",
            "text/plain": [
              "<Figure size 576x288 with 1 Axes>"
            ]
          },
          "metadata": {
            "tags": [],
            "needs_background": "light"
          }
        }
      ]
    },
    {
      "cell_type": "code",
      "metadata": {
        "id": "4Y4OOGi5gkxJ"
      },
      "source": [
        ""
      ],
      "execution_count": null,
      "outputs": []
    }
  ]
}